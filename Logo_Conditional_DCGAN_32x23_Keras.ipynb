{
  "nbformat": 4,
  "nbformat_minor": 0,
  "metadata": {
    "colab": {
      "name": "Logo Conditional DCGAN 32x23 - Keras.ipynb",
      "version": "0.3.2",
      "views": {},
      "default_view": {},
      "provenance": [
        {
          "file_id": "1-d14Fe4itbJsYigCSj3QUBCtQsJWbEHJ",
          "timestamp": 1527729362799
        },
        {
          "file_id": "1vnxlClJHdWk8jt_ICZiDgb-lDEodQFaj",
          "timestamp": 1527709800185
        }
      ],
      "collapsed_sections": []
    },
    "kernelspec": {
      "name": "python3",
      "display_name": "Python 3"
    },
    "accelerator": "GPU"
  },
  "cells": [
    {
      "metadata": {
        "id": "EFZEu7bVRE67",
        "colab_type": "text"
      },
      "cell_type": "markdown",
      "source": [
        "This is my first attempt at GANs!\n",
        "\n",
        "I will try to generate logos for later use with the bill-forge project.\n",
        "\n",
        "Here we go!"
      ]
    },
    {
      "metadata": {
        "id": "Ub_eEJYymi07",
        "colab_type": "code",
        "colab": {
          "autoexec": {
            "startup": false,
            "wait_interval": 0
          },
          "base_uri": "https://localhost:8080/",
          "height": 34
        },
        "outputId": "1de49c29-40c5-49d5-d788-d328273fae96",
        "executionInfo": {
          "status": "ok",
          "timestamp": 1527793147701,
          "user_tz": 240,
          "elapsed": 1663,
          "user": {
            "displayName": "Chris Dulhanty",
            "photoUrl": "//lh3.googleusercontent.com/-vBDYfcXANng/AAAAAAAAAAI/AAAAAAAAAg4/hKwXndinfWo/s50-c-k-no/photo.jpg",
            "userId": "115724894428714314567"
          }
        }
      },
      "cell_type": "code",
      "source": [
        "ls"
      ],
      "execution_count": 1,
      "outputs": [
        {
          "output_type": "stream",
          "text": [
            "\u001b[0m\u001b[01;34mdatalab\u001b[0m/\r\n"
          ],
          "name": "stdout"
        }
      ]
    },
    {
      "metadata": {
        "id": "DsZDrX0rPGz4",
        "colab_type": "code",
        "colab": {
          "autoexec": {
            "startup": false,
            "wait_interval": 0
          },
          "base_uri": "https://localhost:8080/",
          "height": 34
        },
        "outputId": "7952e6f1-f2ce-4894-fe88-266bd1cdd0be",
        "executionInfo": {
          "status": "ok",
          "timestamp": 1527793162874,
          "user_tz": 240,
          "elapsed": 5836,
          "user": {
            "displayName": "Chris Dulhanty",
            "photoUrl": "//lh3.googleusercontent.com/-vBDYfcXANng/AAAAAAAAAAI/AAAAAAAAAg4/hKwXndinfWo/s50-c-k-no/photo.jpg",
            "userId": "115724894428714314567"
          }
        }
      },
      "cell_type": "code",
      "source": [
        "# Imports\n",
        "import keras\n",
        "from keras import layers, Input, models, optimizers\n",
        "import numpy as np\n",
        "import datetime\n",
        "import tensorflow as tf\n",
        "import os\n",
        "import h5py\n",
        "from keras.preprocessing import image\n",
        "from google.colab import files"
      ],
      "execution_count": 2,
      "outputs": [
        {
          "output_type": "stream",
          "text": [
            "Using TensorFlow backend.\n"
          ],
          "name": "stderr"
        }
      ]
    },
    {
      "metadata": {
        "id": "z1hZ3OOZXm98",
        "colab_type": "code",
        "colab": {
          "autoexec": {
            "startup": false,
            "wait_interval": 0
          }
        }
      },
      "cell_type": "code",
      "source": [
        "!mkdir images"
      ],
      "execution_count": 0,
      "outputs": []
    },
    {
      "metadata": {
        "id": "jnzRK99ZCdAV",
        "colab_type": "code",
        "colab": {
          "autoexec": {
            "startup": false,
            "wait_interval": 0
          },
          "base_uri": "https://localhost:8080/",
          "height": 224
        },
        "outputId": "54015875-4a84-4cc9-8108-abfcd08dd318",
        "executionInfo": {
          "status": "ok",
          "timestamp": 1527793234543,
          "user_tz": 240,
          "elapsed": 61415,
          "user": {
            "displayName": "Chris Dulhanty",
            "photoUrl": "//lh3.googleusercontent.com/-vBDYfcXANng/AAAAAAAAAAI/AAAAAAAAAg4/hKwXndinfWo/s50-c-k-no/photo.jpg",
            "userId": "115724894428714314567"
          }
        }
      },
      "cell_type": "code",
      "source": [
        "# Download LLD - Large Logo Dataset from https://data.vision.ee.ethz.ch/sagea/lld/\n",
        "!wget https://data.vision.ee.ethz.ch/sagea/lld/data/LLD-icon-sharp.hdf5 #(32 x 32)"
      ],
      "execution_count": 4,
      "outputs": [
        {
          "output_type": "stream",
          "text": [
            "--2018-05-31 18:59:34--  https://data.vision.ee.ethz.ch/sagea/lld/data/LLD-icon-sharp.hdf5\n",
            "Resolving data.vision.ee.ethz.ch (data.vision.ee.ethz.ch)... 129.132.52.162\n",
            "Connecting to data.vision.ee.ethz.ch (data.vision.ee.ethz.ch)|129.132.52.162|:443... connected.\n",
            "HTTP request sent, awaiting response... 200 OK\n",
            "Length: 313576929 (299M)\n",
            "Saving to: ‘LLD-icon-sharp.hdf5’\n",
            "\n",
            "LLD-icon-sharp.hdf5  76%[==============>     ] 229.75M  5.10MB/s    eta 14s    "
          ],
          "name": "stdout"
        },
        {
          "output_type": "stream",
          "text": [
            "LLD-icon-sharp.hdf5 100%[===================>] 299.05M  4.86MB/s    in 59s     \n",
            "\n",
            "2018-05-31 19:00:33 (5.06 MB/s) - ‘LLD-icon-sharp.hdf5’ saved [313576929/313576929]\n",
            "\n"
          ],
          "name": "stdout"
        }
      ]
    },
    {
      "metadata": {
        "id": "M0sYXwAMf8Fz",
        "colab_type": "code",
        "colab": {
          "autoexec": {
            "startup": false,
            "wait_interval": 0
          },
          "base_uri": "https://localhost:8080/",
          "height": 34
        },
        "outputId": "0fc22f60-18ab-4019-9e66-aee8b13bb551",
        "executionInfo": {
          "status": "ok",
          "timestamp": 1527793456572,
          "user_tz": 240,
          "elapsed": 1533,
          "user": {
            "displayName": "Chris Dulhanty",
            "photoUrl": "//lh3.googleusercontent.com/-vBDYfcXANng/AAAAAAAAAAI/AAAAAAAAAg4/hKwXndinfWo/s50-c-k-no/photo.jpg",
            "userId": "115724894428714314567"
          }
        }
      },
      "cell_type": "code",
      "source": [
        "ls"
      ],
      "execution_count": 5,
      "outputs": [
        {
          "output_type": "stream",
          "text": [
            "\u001b[0m\u001b[01;34mdatalab\u001b[0m/  \u001b[01;34mimages\u001b[0m/  LLD-icon-sharp.hdf5\r\n"
          ],
          "name": "stdout"
        }
      ]
    },
    {
      "metadata": {
        "id": "wnY_q8J8VcMW",
        "colab_type": "text"
      },
      "cell_type": "markdown",
      "source": [
        "**GAN Overview**\n",
        "![GAN in a nutshell](https://deeplearning4j.org/img/GANs.png)"
      ]
    },
    {
      "metadata": {
        "id": "01nQ44LcIKJ8",
        "colab_type": "code",
        "colab": {
          "autoexec": {
            "startup": false,
            "wait_interval": 0
          },
          "base_uri": "https://localhost:8080/",
          "height": 700
        },
        "outputId": "ca0cbe93-d212-4e55-9e3f-9178b10a1466",
        "executionInfo": {
          "status": "ok",
          "timestamp": 1527793459827,
          "user_tz": 240,
          "elapsed": 680,
          "user": {
            "displayName": "Chris Dulhanty",
            "photoUrl": "//lh3.googleusercontent.com/-vBDYfcXANng/AAAAAAAAAAI/AAAAAAAAAg4/hKwXndinfWo/s50-c-k-no/photo.jpg",
            "userId": "115724894428714314567"
          }
        }
      },
      "cell_type": "code",
      "source": [
        "# GAN Generator Network\n",
        "latent_dim = 32\n",
        "one_hot_dim = 32\n",
        "height = 32\n",
        "width = 32\n",
        "channels = 3\n",
        "\n",
        "generator_input = Input(shape=(latent_dim,), name='random_latent_vector')\n",
        "\n",
        "generator_labels = Input(shape=(one_hot_dim,), name='random_1hot_class')\n",
        "\n",
        "generator_combined = layers.concatenate([generator_input, generator_labels], name='gen_input')\n",
        "\n",
        "x = layers.Dense((1024 + one_hot_dim) * 2 * 2)(generator_combined)\n",
        "x = layers.LeakyReLU()(x)\n",
        "x = layers.Reshape((2, 2, 1024 + one_hot_dim))(x)\n",
        "\n",
        "x = layers.Conv2DTranspose(512 + one_hot_dim, 5, strides=2, padding='same')(x)\n",
        "x = layers.LeakyReLU()(x)\n",
        "\n",
        "x = layers.Conv2DTranspose(256 + one_hot_dim, 5, strides=2, padding='same')(x)\n",
        "x = layers.LeakyReLU()(x)\n",
        "\n",
        "x = layers.Conv2DTranspose(128 + one_hot_dim, 5, strides=2, padding='same')(x)\n",
        "x = layers.LeakyReLU()(x)\n",
        "\n",
        "x = layers.Conv2DTranspose(64 + one_hot_dim, 5, strides=2, padding='same')(x)\n",
        "x = layers.LeakyReLU()(x)\n",
        "\n",
        "x = layers.Conv2D(channels, 5, activation='tanh', padding='same', name='gen_image')(x)\n",
        "\n",
        "generator = models.Model(input=[generator_input, generator_labels], outputs=[x])\n",
        "\n",
        "generator.summary()"
      ],
      "execution_count": 6,
      "outputs": [
        {
          "output_type": "stream",
          "text": [
            "__________________________________________________________________________________________________\n",
            "Layer (type)                    Output Shape         Param #     Connected to                     \n",
            "==================================================================================================\n",
            "random_latent_vector (InputLaye (None, 32)           0                                            \n",
            "__________________________________________________________________________________________________\n",
            "random_1hot_class (InputLayer)  (None, 32)           0                                            \n",
            "__________________________________________________________________________________________________\n",
            "gen_input (Concatenate)         (None, 64)           0           random_latent_vector[0][0]       \n",
            "                                                                 random_1hot_class[0][0]          \n",
            "__________________________________________________________________________________________________\n",
            "dense_1 (Dense)                 (None, 4224)         274560      gen_input[0][0]                  \n",
            "__________________________________________________________________________________________________\n",
            "leaky_re_lu_1 (LeakyReLU)       (None, 4224)         0           dense_1[0][0]                    \n",
            "__________________________________________________________________________________________________\n",
            "reshape_1 (Reshape)             (None, 2, 2, 1056)   0           leaky_re_lu_1[0][0]              \n",
            "__________________________________________________________________________________________________\n",
            "conv2d_transpose_1 (Conv2DTrans (None, 4, 4, 544)    14362144    reshape_1[0][0]                  \n",
            "__________________________________________________________________________________________________\n",
            "leaky_re_lu_2 (LeakyReLU)       (None, 4, 4, 544)    0           conv2d_transpose_1[0][0]         \n",
            "__________________________________________________________________________________________________\n",
            "conv2d_transpose_2 (Conv2DTrans (None, 8, 8, 288)    3917088     leaky_re_lu_2[0][0]              \n",
            "__________________________________________________________________________________________________\n",
            "leaky_re_lu_3 (LeakyReLU)       (None, 8, 8, 288)    0           conv2d_transpose_2[0][0]         \n",
            "__________________________________________________________________________________________________\n",
            "conv2d_transpose_3 (Conv2DTrans (None, 16, 16, 160)  1152160     leaky_re_lu_3[0][0]              \n",
            "__________________________________________________________________________________________________\n",
            "leaky_re_lu_4 (LeakyReLU)       (None, 16, 16, 160)  0           conv2d_transpose_3[0][0]         \n",
            "__________________________________________________________________________________________________\n",
            "conv2d_transpose_4 (Conv2DTrans (None, 32, 32, 96)   384096      leaky_re_lu_4[0][0]              \n",
            "__________________________________________________________________________________________________\n",
            "leaky_re_lu_5 (LeakyReLU)       (None, 32, 32, 96)   0           conv2d_transpose_4[0][0]         \n",
            "__________________________________________________________________________________________________\n",
            "gen_image (Conv2D)              (None, 32, 32, 3)    7203        leaky_re_lu_5[0][0]              \n",
            "==================================================================================================\n",
            "Total params: 20,097,251\n",
            "Trainable params: 20,097,251\n",
            "Non-trainable params: 0\n",
            "__________________________________________________________________________________________________\n"
          ],
          "name": "stdout"
        },
        {
          "output_type": "stream",
          "text": [
            "/usr/local/lib/python3.6/dist-packages/ipykernel_launcher.py:31: UserWarning: Update your `Model` call to the Keras 2 API: `Model(outputs=[<tf.Tenso..., inputs=[<tf.Tenso...)`\n"
          ],
          "name": "stderr"
        }
      ]
    },
    {
      "metadata": {
        "id": "oBGNkyPVOwJc",
        "colab_type": "code",
        "colab": {
          "autoexec": {
            "startup": false,
            "wait_interval": 0
          },
          "base_uri": "https://localhost:8080/",
          "height": 663
        },
        "outputId": "3081221c-2f2c-4bb3-ac0d-b83f72ed9b4d",
        "executionInfo": {
          "status": "ok",
          "timestamp": 1527793461554,
          "user_tz": 240,
          "elapsed": 699,
          "user": {
            "displayName": "Chris Dulhanty",
            "photoUrl": "//lh3.googleusercontent.com/-vBDYfcXANng/AAAAAAAAAAI/AAAAAAAAAg4/hKwXndinfWo/s50-c-k-no/photo.jpg",
            "userId": "115724894428714314567"
          }
        }
      },
      "cell_type": "code",
      "source": [
        "# GAN Discriminator Network\n",
        "discriminator_input = Input(shape=(height, width, channels), name='image_input')\n",
        "\n",
        "discriminator_labels = Input(shape=(height, width, one_hot_dim), name='image_class')\n",
        "\n",
        "discriminator_combined = layers.concatenate([discriminator_input, discriminator_labels], name='disc_input')\n",
        "\n",
        "x = layers.Conv2D(64, 1)(discriminator_combined)\n",
        "x = layers.LeakyReLU()(x)\n",
        "\n",
        "x = layers.Conv2D(128, 5, strides=2, padding='same')(x)\n",
        "x = layers.LeakyReLU()(x)\n",
        "\n",
        "x = layers.Conv2D(256, 5, strides=2, padding='same')(x)\n",
        "x = layers.LeakyReLU()(x)\n",
        "\n",
        "x = layers.Conv2D(512, 5, strides=2, padding='same')(x)\n",
        "x = layers.LeakyReLU()(x)\n",
        "\n",
        "x = layers.Conv2D(1024, 5, strides=2, padding='same')(x)\n",
        "x = layers.Flatten()(x)\n",
        "\n",
        "x = layers.Dropout(0.6)(x)\n",
        "\n",
        "x = layers.Dense(1, activation='sigmoid', name='real_fake_pred')(x)\n",
        "\n",
        "discriminator = models.Model(inputs=[discriminator_input, discriminator_labels], outputs=[x])\n",
        "\n",
        "discriminator.summary()\n",
        "\n",
        "discriminator_optimizer = optimizers.RMSprop(\n",
        "  lr=0.0002,\n",
        "  clipvalue=1.0,\n",
        "  decay=1e-8)\n",
        "\n",
        "discriminator.compile(optimizer=discriminator_optimizer, loss='binary_crossentropy')"
      ],
      "execution_count": 7,
      "outputs": [
        {
          "output_type": "stream",
          "text": [
            "__________________________________________________________________________________________________\n",
            "Layer (type)                    Output Shape         Param #     Connected to                     \n",
            "==================================================================================================\n",
            "image_input (InputLayer)        (None, 32, 32, 3)    0                                            \n",
            "__________________________________________________________________________________________________\n",
            "image_class (InputLayer)        (None, 32, 32, 32)   0                                            \n",
            "__________________________________________________________________________________________________\n",
            "disc_input (Concatenate)        (None, 32, 32, 35)   0           image_input[0][0]                \n",
            "                                                                 image_class[0][0]                \n",
            "__________________________________________________________________________________________________\n",
            "conv2d_1 (Conv2D)               (None, 32, 32, 64)   2304        disc_input[0][0]                 \n",
            "__________________________________________________________________________________________________\n",
            "leaky_re_lu_6 (LeakyReLU)       (None, 32, 32, 64)   0           conv2d_1[0][0]                   \n",
            "__________________________________________________________________________________________________\n",
            "conv2d_2 (Conv2D)               (None, 16, 16, 128)  204928      leaky_re_lu_6[0][0]              \n",
            "__________________________________________________________________________________________________\n",
            "leaky_re_lu_7 (LeakyReLU)       (None, 16, 16, 128)  0           conv2d_2[0][0]                   \n",
            "__________________________________________________________________________________________________\n",
            "conv2d_3 (Conv2D)               (None, 8, 8, 256)    819456      leaky_re_lu_7[0][0]              \n",
            "__________________________________________________________________________________________________\n",
            "leaky_re_lu_8 (LeakyReLU)       (None, 8, 8, 256)    0           conv2d_3[0][0]                   \n",
            "__________________________________________________________________________________________________\n",
            "conv2d_4 (Conv2D)               (None, 4, 4, 512)    3277312     leaky_re_lu_8[0][0]              \n",
            "__________________________________________________________________________________________________\n",
            "leaky_re_lu_9 (LeakyReLU)       (None, 4, 4, 512)    0           conv2d_4[0][0]                   \n",
            "__________________________________________________________________________________________________\n",
            "conv2d_5 (Conv2D)               (None, 2, 2, 1024)   13108224    leaky_re_lu_9[0][0]              \n",
            "__________________________________________________________________________________________________\n",
            "flatten_1 (Flatten)             (None, 4096)         0           conv2d_5[0][0]                   \n",
            "__________________________________________________________________________________________________\n",
            "dropout_1 (Dropout)             (None, 4096)         0           flatten_1[0][0]                  \n",
            "__________________________________________________________________________________________________\n",
            "real_fake_pred (Dense)          (None, 1)            4097        dropout_1[0][0]                  \n",
            "==================================================================================================\n",
            "Total params: 17,416,321\n",
            "Trainable params: 17,416,321\n",
            "Non-trainable params: 0\n",
            "__________________________________________________________________________________________________\n"
          ],
          "name": "stdout"
        }
      ]
    },
    {
      "metadata": {
        "id": "tI8WpFk7Qzhr",
        "colab_type": "code",
        "colab": {
          "autoexec": {
            "startup": false,
            "wait_interval": 0
          },
          "base_uri": "https://localhost:8080/",
          "height": 340
        },
        "outputId": "b3ef00c2-af23-47ed-c4fd-cc6edf4437e7",
        "executionInfo": {
          "status": "ok",
          "timestamp": 1527793463495,
          "user_tz": 240,
          "elapsed": 511,
          "user": {
            "displayName": "Chris Dulhanty",
            "photoUrl": "//lh3.googleusercontent.com/-vBDYfcXANng/AAAAAAAAAAI/AAAAAAAAAg4/hKwXndinfWo/s50-c-k-no/photo.jpg",
            "userId": "115724894428714314567"
          }
        }
      },
      "cell_type": "code",
      "source": [
        "# GAN Adversarial Network\n",
        "discriminator.trainable = False\n",
        "\n",
        "gan_input = Input(shape=(latent_dim,))\n",
        "gan_labels = Input(shape=(one_hot_dim,))\n",
        "gan_output_labels = Input(shape=(height, width, one_hot_dim))\n",
        "\n",
        "gan_output = discriminator(inputs=[generator(inputs=[gan_input, gan_labels]), gan_output_labels])\n",
        "\n",
        "gan = models.Model(inputs=[gan_input, gan_labels, gan_output_labels], outputs=[gan_output])\n",
        "\n",
        "gan.summary()\n",
        "\n",
        "gan_optimizer = optimizers.RMSprop(lr=0.0004, clipvalue=1.0, decay=1e-8)\n",
        "gan.compile(optimizer=gan_optimizer, loss='binary_crossentropy')"
      ],
      "execution_count": 8,
      "outputs": [
        {
          "output_type": "stream",
          "text": [
            "__________________________________________________________________________________________________\n",
            "Layer (type)                    Output Shape         Param #     Connected to                     \n",
            "==================================================================================================\n",
            "input_1 (InputLayer)            (None, 32)           0                                            \n",
            "__________________________________________________________________________________________________\n",
            "input_2 (InputLayer)            (None, 32)           0                                            \n",
            "__________________________________________________________________________________________________\n",
            "model_1 (Model)                 (None, 32, 32, 3)    20097251    input_1[0][0]                    \n",
            "                                                                 input_2[0][0]                    \n",
            "__________________________________________________________________________________________________\n",
            "input_3 (InputLayer)            (None, 32, 32, 32)   0                                            \n",
            "__________________________________________________________________________________________________\n",
            "model_2 (Model)                 (None, 1)            17416321    model_1[1][0]                    \n",
            "                                                                 input_3[0][0]                    \n",
            "==================================================================================================\n",
            "Total params: 37,513,572\n",
            "Trainable params: 20,097,251\n",
            "Non-trainable params: 17,416,321\n",
            "__________________________________________________________________________________________________\n"
          ],
          "name": "stdout"
        }
      ]
    },
    {
      "metadata": {
        "id": "gjZuP0e2w1Q9",
        "colab_type": "code",
        "colab": {
          "autoexec": {
            "startup": false,
            "wait_interval": 0
          }
        }
      },
      "cell_type": "code",
      "source": [
        "# import logo data\n",
        "hdf5_file = h5py.File('LLD-icon-sharp.hdf5', 'r')\n",
        "labels = hdf5_file['labels/resnet/rc_32'][:]\n",
        "\n",
        "new_images = hdf5_file['data'][:]\n",
        "new_images = np.moveaxis(new_images, 1, -1)\n",
        "new_images = new_images.reshape((new_images.shape[0],) + (height, width, channels)).astype('float32') / 255.\n",
        "new_images = new_images[0:len(labels)]"
      ],
      "execution_count": 0,
      "outputs": []
    },
    {
      "metadata": {
        "id": "h_GSuW0enW0K",
        "colab_type": "code",
        "colab": {
          "autoexec": {
            "startup": false,
            "wait_interval": 0
          },
          "base_uri": "https://localhost:8080/",
          "height": 51
        },
        "outputId": "05187900-b59a-43fd-b96f-5d7dd26a97e6",
        "executionInfo": {
          "status": "ok",
          "timestamp": 1527792616084,
          "user_tz": 240,
          "elapsed": 426,
          "user": {
            "displayName": "Chris Dulhanty",
            "photoUrl": "//lh3.googleusercontent.com/-vBDYfcXANng/AAAAAAAAAAI/AAAAAAAAAg4/hKwXndinfWo/s50-c-k-no/photo.jpg",
            "userId": "115724894428714314567"
          }
        }
      },
      "cell_type": "code",
      "source": [
        "print(one_hot_labels.shape)\n",
        "print(new_images.shape)"
      ],
      "execution_count": 179,
      "outputs": [
        {
          "output_type": "stream",
          "text": [
            "(221312, 32)\n",
            "(221312, 32, 32, 3)\n"
          ],
          "name": "stdout"
        }
      ]
    },
    {
      "metadata": {
        "id": "-RYeN1eKSZho",
        "colab_type": "code",
        "colab": {
          "autoexec": {
            "startup": false,
            "wait_interval": 0
          },
          "base_uri": "https://localhost:8080/",
          "height": 190
        },
        "outputId": "03c3601f-6fb1-46aa-8724-9b61bcd41dc9"
      },
      "cell_type": "code",
      "source": [
        "# GAN Training & Generation\n",
        "iterations = 10000\n",
        "batch_size = 128\n",
        "save_dir = 'images'\n",
        "\n",
        "start = 0\n",
        "for step in range(iterations):\n",
        "  \n",
        "  stop = start + batch_size\n",
        "  \n",
        "  # Sample random points in the latent space\n",
        "  random_latent_vectors = np.random.normal(size=(batch_size, latent_dim))\n",
        "  \n",
        "  # Create random labels for the random points\n",
        "  random_input_labels = np.random.randint(one_hot_dim, size=batch_size)\n",
        "  random_one_hot = np.zeros((batch_size, one_hot_dim))\n",
        "  for i, e in enumerate(random_input_labels):\n",
        "    random_one_hot[i][e] = 1\n",
        "  \n",
        "  # Generate new images (ie. decode to fake images)\n",
        "  generated_images = generator.predict([random_latent_vectors, random_one_hot])\n",
        "  \n",
        "  # Get the class tensor for the fake images\n",
        "  generated_image_classes = np.zeros((batch_size, height, width, one_hot_dim))\n",
        "  for i, e in enumerate(random_input_labels):\n",
        "    generated_image_classes[i][e][:][:] = 1\n",
        "   \n",
        "  # Grab real images & their labels\n",
        "  real_images = new_images[start: stop]\n",
        "  real_labels = labels[start: stop]\n",
        "  \n",
        "  # Get the class tensor for the real images\n",
        "  real_images_classes = np.zeros((batch_size, height, width, one_hot_dim))\n",
        "  for i, e in enumerate(real_labels):\n",
        "    real_images_classes[i][e][:][:] = 1\n",
        "  \n",
        "  # Combine fake images with real images\n",
        "  combined_images = np.concatenate([generated_images, real_images])\n",
        "  combined_labels = np.concatenate([generated_image_classes, real_images_classes])\n",
        "  \n",
        "  # Assemble labels discriminating real from fake images and add some noise to the discriminator labels\n",
        "  disc_labels = np.concatenate([np.ones((batch_size, 1)), np.zeros((batch_size, 1))])\n",
        "  disc_labels += 0.05 * np.random.random(disc_labels.shape)\n",
        "  \n",
        "  # Train the discriminator\n",
        "  d_loss = discriminator.train_on_batch([combined_images, combined_labels], disc_labels)\n",
        "  \n",
        "  # Sample random points in the latent space\n",
        "  random_latent_vectors_gan = np.random.normal(size=(batch_size, latent_dim)) \n",
        "  \n",
        "  # Create random labels for the random points\n",
        "  random_input_labels_gan = np.random.randint(one_hot_dim, size=batch_size)\n",
        "  random_one_hot_gan = np.zeros((batch_size, one_hot_dim))\n",
        "  for i, e in enumerate(random_input_labels_gan):\n",
        "    random_one_hot_gan[i][e] = 1\n",
        "  \n",
        "  generated_image_classes_gan = np.zeros((batch_size, height, width, one_hot_dim))\n",
        "  for i, e in enumerate(random_input_labels_gan):\n",
        "    generated_image_classes_gan[i][e][:][:] = 1\n",
        "  \n",
        "  # Assemble labels that say \"all real images\"\n",
        "  misleading_targets = np.zeros((batch_size, 1))\n",
        "  \n",
        "  # Train the generator (via the gan model, where the discriminator weights are frozen)\n",
        "  a_loss = gan.train_on_batch([random_latent_vectors_gan, random_one_hot_gan, generated_image_classes_gan], misleading_targets)\n",
        "\n",
        "  start += batch_size\n",
        "  \n",
        "  if start > len(new_images) - batch_size:\n",
        "    start = 0\n",
        "    \n",
        "  # write to output losses & to file images\n",
        "  if step % 100 == 0:\n",
        "    \n",
        "    gan.save_weights('gan.h5')\n",
        "    \n",
        "    print('step:', step)\n",
        "    print('discriminator loss:', d_loss)\n",
        "    print('adversarial loss:', a_loss)\n",
        "    \n",
        "    img = image.array_to_img(generated_images[0] * 255., scale=False)\n",
        "    img.save(os.path.join(save_dir, 'generated_logo' + str(step) + '.png'))\n",
        "    \n",
        "    img = image.array_to_img(real_images[0] * 255., scale=False)\n",
        "    img.save(os.path.join(save_dir, 'real_logo' + str(step) + '.png'))"
      ],
      "execution_count": 0,
      "outputs": [
        {
          "output_type": "stream",
          "text": [
            "/usr/local/lib/python3.6/dist-packages/keras/engine/training.py:975: UserWarning: Discrepancy between trainable weights and collected trainable weights, did you set `model.trainable` without calling `model.compile` after ?\n",
            "  'Discrepancy between trainable weights and collected trainable'\n"
          ],
          "name": "stderr"
        },
        {
          "output_type": "stream",
          "text": [
            "WARNING:tensorflow:Variable *= will be deprecated. Use variable.assign_mul if you want assignment to the variable value or 'x = x * y' if you want a new python Tensor object.\n",
            "step: 0\n",
            "discriminator loss: 0.6882568\n",
            "adversarial loss: 0.4862601\n",
            "step: 100\n",
            "discriminator loss: 0.34599057\n",
            "adversarial loss: 5.816887\n"
          ],
          "name": "stdout"
        }
      ]
    },
    {
      "metadata": {
        "id": "bEZMfVwxg38S",
        "colab_type": "code",
        "colab": {
          "autoexec": {
            "startup": false,
            "wait_interval": 0
          },
          "base_uri": "https://localhost:8080/",
          "height": 68
        },
        "outputId": "dca8d241-1753-4eda-834a-7f385f47dc24",
        "executionInfo": {
          "status": "ok",
          "timestamp": 1527709745922,
          "user_tz": 240,
          "elapsed": 2114,
          "user": {
            "displayName": "Chris Dulhanty",
            "photoUrl": "//lh3.googleusercontent.com/-vBDYfcXANng/AAAAAAAAAAI/AAAAAAAAAg4/hKwXndinfWo/s50-c-k-no/photo.jpg",
            "userId": "115724894428714314567"
          }
        }
      },
      "cell_type": "code",
      "source": [
        "ls"
      ],
      "execution_count": 0,
      "outputs": [
        {
          "output_type": "stream",
          "text": [
            "\u001b[0m\u001b[01;34mdatalab\u001b[0m/  \u001b[01;34mLLD-icon\u001b[0m/         LLD-icon-sharp.hdf5    \u001b[01;34mlogs\u001b[0m/\r\n",
            "gan.h5    LLD-icon.hdf5     LLD-icon-sharp.hdf5.1  \u001b[01;32mngrok\u001b[0m*\r\n",
            "\u001b[01;34mimages\u001b[0m/   LLD-icon_PKL.zip  LLD-icon-sharp.hdf5.2  ngrok-stable-linux-amd64.zip\r\n"
          ],
          "name": "stdout"
        }
      ]
    },
    {
      "metadata": {
        "id": "s-eLZTS9mget",
        "colab_type": "code",
        "colab": {
          "autoexec": {
            "startup": false,
            "wait_interval": 0
          }
        }
      },
      "cell_type": "code",
      "source": [
        "!tar -zcvf images.tar.gz images/\n",
        "files.download('images.tar.gz')"
      ],
      "execution_count": 0,
      "outputs": []
    },
    {
      "metadata": {
        "id": "wOekEoFzbPZ8",
        "colab_type": "code",
        "colab": {
          "autoexec": {
            "startup": false,
            "wait_interval": 0
          }
        }
      },
      "cell_type": "code",
      "source": [
        "# Do not run unless I want to reset the machine!\n",
        "!kill -9 -1"
      ],
      "execution_count": 0,
      "outputs": []
    },
    {
      "metadata": {
        "id": "R7gFayMw_sWZ",
        "colab_type": "code",
        "colab": {
          "autoexec": {
            "startup": false,
            "wait_interval": 0
          }
        }
      },
      "cell_type": "code",
      "source": [
        ""
      ],
      "execution_count": 0,
      "outputs": []
    }
  ]
}